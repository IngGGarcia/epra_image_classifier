{
  "cells": [
    {
      "cell_type": "markdown",
      "metadata": {},
      "source": [
        "# 🧠 Model Development - EPRA Violence Classification",
        "",
        "This notebook demonstrates model development for violence classification using the EPRA framework. We'll train both binary and multiclass models and compare their performance.",
        "",
        "## Objectives",
        "1. **Setup training configuration**",
        "2. **Create and train binary model**",
        "3. **Create and train multiclass model**",
        "4. **Compare model architectures**",
        "5. **Hyperparameter tuning**",
        "6. **Training monitoring and visualization**"
      ]
    },
    {
      "cell_type": "code",
      "metadata": {},
      "source": [
        "# Setup and imports",
        "import sys",
        "from pathlib import Path",
        "sys.path.append(str(Path.cwd().parent / \"src\"))",
        "",
        "import torch",
        "import matplotlib.pyplot as plt",
        "import seaborn as sns",
        "from datetime import datetime",
        "",
        "# EPRA imports",
        "from epra_classifier.data.loaders import get_dataloaders",
        "from epra_classifier.models import create_model",
        "from epra_classifier.models.base import BasePipeline",
        "from epra_classifier.training.trainers import ViolenceTrainer",
        "from epra_classifier.utils.config import Config",
        "from epra_classifier.utils.helpers import set_seed",
        "",
        "# Configuration",
        "plt.style.use('seaborn-v0_8')",
        "sns.set_palette(\"husl\")",
        "print(\"✅ Setup completed successfully!\")"
      ],
      "execution_count": null,
      "outputs": []
    },
    {
      "cell_type": "markdown",
      "metadata": {},
      "source": [
        "## ⚙️ Configuration Setup"
      ]
    },
    {
      "cell_type": "code",
      "metadata": {},
      "source": [
        "# Load and configure training setup",
        "config = Config.from_yaml(\"../configs/binary_config.yaml\")  # Adjust path as needed",
        "",
        "# Override with notebook-specific settings",
        "config.training.num_epochs = 20  # Shorter for notebook demonstration",
        "config.training.save_every_n_epochs = 5",
        "config.data.batch_size = 16  # Smaller batch for demo",
        "config.logging.log_every_n_steps = 10",
        "",
        "# Set seed for reproducibility",
        "set_seed(config.system.random_seed)",
        "",
        "print(f\"🎯 Configuration loaded:\")",
        "print(f\"  Model: {config.model.model_type}\")",
        "print(f\"  Classes: {config.model.num_classes}\")",
        "print(f\"  Epochs: {config.training.num_epochs}\")",
        "print(f\"  Batch size: {config.data.batch_size}\")",
        "print(f\"  Learning rate: {config.training.learning_rate}\")"
      ],
      "execution_count": null,
      "outputs": []
    },
    {
      "cell_type": "markdown",
      "metadata": {},
      "source": [
        "## 📊 Data Loading"
      ]
    },
    {
      "cell_type": "code",
      "metadata": {},
      "source": [
        "# Load data",
        "DATA_DIR = Path(\"../data\")  # Adjust this path",
        "OUTPUT_DIR = Path(f\"../outputs/notebook_training_{datetime.now().strftime('%Y%m%d_%H%M%S')}\")",
        "OUTPUT_DIR.mkdir(parents=True, exist_ok=True)",
        "",
        "# Create dataloaders",
        "dataloaders = get_dataloaders(",
        "    data_dir=DATA_DIR,",
        "    config=config,",
        "    dataset_type=\"violence\"",
        ")",
        "",
        "train_loader = dataloaders[\"train\"]",
        "val_loader = dataloaders.get(\"val\")",
        "",
        "print(f\"📊 Training samples: {len(train_loader.dataset)}\")",
        "if val_loader:",
        "    print(f\"📊 Validation samples: {len(val_loader.dataset)}\")",
        "    ",
        "# Display class information",
        "if hasattr(train_loader.dataset, 'get_class_names'):",
        "    classes = train_loader.dataset.get_class_names()",
        "    print(f\"🏷️ Classes: {classes}\")"
      ],
      "execution_count": null,
      "outputs": []
    }
  ],
  "metadata": {
    "kernelspec": {
      "display_name": "Python 3",
      "language": "python",
      "name": "python3"
    },
    "language_info": {
      "codemirror_mode": {
        "name": "ipython",
        "version": 3
      },
      "file_extension": ".py",
      "mimetype": "text/x-python",
      "name": "python",
      "nbconvert_exporter": "python",
      "pygments_lexer": "ipython3",
      "version": "3.8.0"
    }
  },
  "nbformat": 4,
  "nbformat_minor": 4
}