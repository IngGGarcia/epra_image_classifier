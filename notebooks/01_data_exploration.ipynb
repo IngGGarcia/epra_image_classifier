{
 "cells": [
  {
   "cell_type": "markdown",
   "metadata": {},
   "source": [
    "# 📊 Data Exploration - EPRA Violence Classification\n",
    "\n",
    "This notebook provides comprehensive data exploration for the EPRA violence classification project. We'll analyze the dataset structure, distribution, and characteristics to inform our modeling decisions.\n",
    "\n",
    "## Objectives\n",
    "1. **Load and inspect the dataset**\n",
    "2. **Analyze class distribution and balance**\n",
    "3. **Explore image characteristics (size, format, quality)**\n",
    "4. **Identify potential data issues**\n",
    "5. **Visualize sample images from each class**\n",
    "6. **Statistical analysis of the dataset**"
   ]
  },
  {
   "cell_type": "code",
   "execution_count": null,
   "metadata": {},
   "outputs": [],
   "source": [
    "# Setup and imports\n",
    "import sys\n",
    "from pathlib import Path\n",
    "\n",
    "\n",
    "# Add src to path\n",
    "sys.path.append(str(Path.cwd().parent / \"src\"))\n",
    "\n",
    "import warnings\n",
    "\n",
    "import matplotlib.pyplot as plt\n",
    "import pandas as pd\n",
    "import seaborn as sns\n",
    "\n",
    "\n",
    "warnings.filterwarnings(\"ignore\")\n",
    "\n",
    "# EPRA imports\n",
    "from epra_classifier.data.loaders import ViolenceDataset, get_dataset_statistics\n",
    "from epra_classifier.utils.config import DataConfig\n",
    "\n",
    "\n",
    "# Plotting configuration\n",
    "plt.style.use(\"seaborn-v0_8\")\n",
    "sns.set_palette(\"husl\")\n",
    "plt.rcParams[\"figure.figsize\"] = (12, 8)\n",
    "\n",
    "print(\"✅ Setup completed successfully!\")"
   ]
  },
  {
   "cell_type": "markdown",
   "metadata": {},
   "source": [
    "## 📁 Dataset Configuration\n",
    "\n",
    "Configure the paths and parameters for data exploration."
   ]
  },
  {
   "cell_type": "code",
   "execution_count": null,
   "metadata": {},
   "outputs": [],
   "source": [
    "# Dataset configuration\n",
    "DATA_DIR = Path(\"../data\")  # Adjust this path to your dataset\n",
    "OUTPUT_DIR = Path(\"../outputs/data_exploration\")\n",
    "OUTPUT_DIR.mkdir(parents=True, exist_ok=True)\n",
    "\n",
    "# Create data configuration\n",
    "config = DataConfig(\n",
    "    image_size=(224, 224),\n",
    "    batch_size=32,\n",
    "    mean=[0.485, 0.456, 0.406],\n",
    "    std=[0.229, 0.224, 0.225],\n",
    ")\n",
    "\n",
    "print(f\"📂 Data directory: {DATA_DIR}\")\n",
    "print(f\"📊 Output directory: {OUTPUT_DIR}\")\n",
    "print(f\"⚙️ Configuration: {config.image_size} images\")"
   ]
  },
  {
   "cell_type": "markdown",
   "metadata": {},
   "source": [
    "## 🔍 Dataset Loading and Basic Statistics"
   ]
  },
  {
   "cell_type": "code",
   "execution_count": null,
   "metadata": {},
   "outputs": [],
   "source": [
    "# Load dataset\n",
    "try:\n",
    "    dataset = ViolenceDataset(\n",
    "        root_dir=DATA_DIR, config=config, classification_type=\"auto\"\n",
    "    )\n",
    "    print(\"✅ Dataset loaded successfully!\")\n",
    "    print(f\"📊 Total samples: {len(dataset)}\")\n",
    "    print(f\"🏷️ Number of classes: {len(dataset.classes)}\")\n",
    "    print(f\"📋 Classes: {dataset.classes}\")\n",
    "    print(f\"🔄 Classification type: {dataset.get_classification_type()}\")\n",
    "\n",
    "except Exception as e:\n",
    "    print(f\"❌ Error loading dataset: {e}\")\n",
    "    print(\"Please check the DATA_DIR path and ensure the dataset exists.\")"
   ]
  },
  {
   "cell_type": "code",
   "execution_count": null,
   "metadata": {},
   "outputs": [],
   "source": [
    "# Get comprehensive dataset statistics\n",
    "stats = get_dataset_statistics(dataset)\n",
    "print(\"📈 Dataset Statistics:\")\n",
    "print(\"=\" * 40)\n",
    "for key, value in stats.items():\n",
    "    if isinstance(value, dict):\n",
    "        print(f\"{key}:\")\n",
    "        for k, v in value.items():\n",
    "            print(f\"  {k}: {v}\")\n",
    "    else:\n",
    "        print(f\"{key}: {value}\")"
   ]
  },
  {
   "cell_type": "markdown",
   "metadata": {},
   "source": [
    "## 📊 Class Distribution Analysis"
   ]
  },
  {
   "cell_type": "code",
   "execution_count": null,
   "metadata": {},
   "outputs": [],
   "source": [
    "# Analyze class distribution\n",
    "class_counts = dataset.get_class_counts()\n",
    "total_samples = sum(class_counts.values())\n",
    "\n",
    "# Create distribution DataFrame\n",
    "dist_df = pd.DataFrame(\n",
    "    [\n",
    "        {\n",
    "            \"Class\": class_name,\n",
    "            \"Count\": count,\n",
    "            \"Percentage\": (count / total_samples) * 100,\n",
    "        }\n",
    "        for class_name, count in class_counts.items()\n",
    "    ]\n",
    ")\n",
    "\n",
    "print(\"📊 Class Distribution:\")\n",
    "print(dist_df.to_string(index=False))\n",
    "\n",
    "# Calculate imbalance ratio\n",
    "max_count = max(class_counts.values())\n",
    "min_count = min(class_counts.values())\n",
    "imbalance_ratio = max_count / min_count if min_count > 0 else float(\"inf\")\n",
    "\n",
    "print(f\"\\n⚖️ Imbalance ratio: {imbalance_ratio:.2f}\")\n",
    "if imbalance_ratio > 3:\n",
    "    print(\"⚠️ Significant class imbalance detected!\")\n",
    "elif imbalance_ratio > 1.5:\n",
    "    print(\"⚠️ Moderate class imbalance detected.\")\n",
    "else:\n",
    "    print(\"✅ Classes are relatively balanced.\")"
   ]
  },
  {
   "cell_type": "code",
   "execution_count": null,
   "metadata": {},
   "outputs": [],
   "source": [
    "# Visualize class distribution\n",
    "fig, axes = plt.subplots(1, 2, figsize=(15, 6))\n",
    "\n",
    "# Bar plot\n",
    "bars = axes[0].bar(\n",
    "    dist_df[\"Class\"], dist_df[\"Count\"], color=sns.color_palette(\"husl\", len(dist_df))\n",
    ")\n",
    "axes[0].set_title(\"Class Distribution (Count)\", fontsize=14, fontweight=\"bold\")\n",
    "axes[0].set_xlabel(\"Class\")\n",
    "axes[0].set_ylabel(\"Number of Samples\")\n",
    "axes[0].tick_params(axis=\"x\", rotation=45)\n",
    "\n",
    "# Add value labels on bars\n",
    "for bar, count in zip(bars, dist_df[\"Count\"]):\n",
    "    axes[0].text(\n",
    "        bar.get_x() + bar.get_width() / 2,\n",
    "        bar.get_height() + 0.01 * max(dist_df[\"Count\"]),\n",
    "        str(count),\n",
    "        ha=\"center\",\n",
    "        va=\"bottom\",\n",
    "        fontweight=\"bold\",\n",
    "    )\n",
    "\n",
    "# Pie chart\n",
    "colors = sns.color_palette(\"husl\", len(dist_df))\n",
    "wedges, texts, autotexts = axes[1].pie(\n",
    "    dist_df[\"Count\"],\n",
    "    labels=dist_df[\"Class\"],\n",
    "    autopct=\"%1.1f%%\",\n",
    "    colors=colors,\n",
    "    startangle=90,\n",
    ")\n",
    "axes[1].set_title(\"Class Distribution (Percentage)\", fontsize=14, fontweight=\"bold\")\n",
    "\n",
    "plt.tight_layout()\n",
    "plt.savefig(OUTPUT_DIR / \"class_distribution.png\", dpi=300, bbox_inches=\"tight\")\n",
    "plt.show()\n",
    "\n",
    "print(f\"💾 Class distribution plot saved to {OUTPUT_DIR / 'class_distribution.png'}\")"
   ]
  }
 ],
 "metadata": {
  "kernelspec": {
   "display_name": "Python 3",
   "language": "python",
   "name": "python3"
  },
  "language_info": {
   "codemirror_mode": {
    "name": "ipython",
    "version": 3
   },
   "file_extension": ".py",
   "mimetype": "text/x-python",
   "name": "python",
   "nbconvert_exporter": "python",
   "pygments_lexer": "ipython3",
   "version": "3.8.0"
  }
 },
 "nbformat": 4,
 "nbformat_minor": 4
}
